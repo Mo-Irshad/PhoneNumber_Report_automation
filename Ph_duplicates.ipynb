{
 "cells": [
  {
   "cell_type": "code",
   "execution_count": 2,
   "id": "31771bdb-29d8-46b0-938d-f69300634543",
   "metadata": {},
   "outputs": [
    {
     "name": "stderr",
     "output_type": "stream",
     "text": [
      "/var/folders/c_/8r42hlvx2w36c1j39xf03hkw0000gp/T/ipykernel_97590/3056099681.py:5: DtypeWarning: Columns (11,14,15,18,25,29,30,50,51) have mixed types. Specify dtype option on import or set low_memory=False.\n",
      "  df = pd.read_csv(file_path, skiprows=3,dtype={'Phone2': str})\n"
     ]
    },
    {
     "name": "stdout",
     "output_type": "stream",
     "text": [
      "✅ Report saved to 'violation_phone_summary.xlsx' with Summary and Remarks sheets.\n"
     ]
    }
   ],
   "source": [
    "import pandas as pd\n",
    "\n",
    "# --- Load and Clean Data ---\n",
    "file_path = 'April19_20.csv'\n",
    "df = pd.read_csv(file_path, skiprows=3,dtype={'Phone2': str})\n",
    "df = df[['Bill Date', 'OUTLET NAME', 'Customer Name', 'Phone2']]\n",
    "df = df.iloc[1:].copy()\n",
    "\n",
    "# Clean phone numbers\n",
    "df['Phone2'] = df['Phone2'].astype(str).str.replace(r'\\D+', '', regex=True).str.strip()\n",
    "df['Customer Name'] = df['Customer Name'].astype(str).str.strip().str.upper()\n",
    "\n",
    "\n",
    "\n",
    "# --- Define Conditions ---\n",
    "def apply_conditions(df):\n",
    "    df['NOB'] = 1  # Every row is one bill\n",
    "    df['Repeting_More_3'] = (df['Phone2'] != '9091600916') & (df.groupby(['Bill Date', 'Phone2'])['Phone2'].transform('count') > 3)\n",
    "    df['F2D_Cust_num'] = (df['Customer Name'] == 'FRESH2DAY') & (df['Phone2'] != '9091600916')\n",
    "    df['Fake number'] = (df['Phone2'].str.len() != 10) | (~df['Phone2'].str[0].isin(['6', '7', '8', '9']))\n",
    "    df['CustNum_WOT_F2D_name'] = (df['Phone2'] == '9091600916') & (df['Customer Name'] != 'FRESH2DAY')\n",
    "    df['Fake_CustNum'] = df['Phone2'].str.startswith('90916009') & (~df['Phone2'].str[8:10].eq('16'))\n",
    "    return df\n",
    "\n",
    "df = apply_conditions(df)\n",
    "\n",
    "# --- Create Summary Table ---\n",
    "summary = df.groupby(['Bill Date', 'OUTLET NAME']).agg(\n",
    "    NOB=('NOB', 'sum'),\n",
    "    Repeting_More_3 = ('Repeting_More_3', 'sum'),\n",
    "    F2D_Cust_num=('F2D_Cust_num', 'sum'),\n",
    "    Fake_number=('Fake number', 'sum'),\n",
    "    CustNum_WOT_F2D_name=('CustNum_WOT_F2D_name', 'sum'),\n",
    "    Fake_CustNum=('Fake_CustNum', 'sum'),\n",
    ").reset_index()\n",
    "\n",
    "# Calculate percentages\n",
    "for col in ['Repeting_More_3', 'F2D_Cust_num', 'Fake_number', 'CustNum_WOT_F2D_name', 'Fake_CustNum']:\n",
    "    summary[f'{col} %'] = (summary[col] / summary['NOB']).round(4)\n",
    "\n",
    "# --- Add Grand Total Row ---\n",
    "grand = {\n",
    "    'Bill Date': '',\n",
    "    'OUTLET NAME': 'Grand Total',\n",
    "    'NOB': summary['NOB'].sum()\n",
    "}\n",
    "for col in ['Repeting_More_3', 'F2D_Cust_num', 'Fake_number', 'CustNum_WOT_F2D_name', 'Fake_CustNum']:\n",
    "    grand[col] = summary[col].sum()\n",
    "    grand[f'{col} %'] = round(grand[col] / grand['NOB'], 4)\n",
    "\n",
    "summary = pd.concat([summary, pd.DataFrame([grand])], ignore_index=True)\n",
    "\n",
    "# --- Add Remarks Column to Main Data ---\n",
    "def remark_row(row):\n",
    "    reasons = []\n",
    "    if row['Repeting_More_3']:\n",
    "        reasons.append('Repeting_More_3')\n",
    "    if row['F2D_Cust_num']:\n",
    "        reasons.append('F2D_Cust_num')\n",
    "    if row['Fake number']:\n",
    "        reasons.append('Fake number')\n",
    "    if row['CustNum_WOT_F2D_name']:\n",
    "        reasons.append('CustNum_WOT_F2D_name')\n",
    "    if row['Fake_CustNum']:\n",
    "        reasons.append('Fake_CustNum')\n",
    "    if (row['Customer Name'].strip().upper() == 'FRESH2DAY') and (row['Phone2'] == '9091600916'):\n",
    "        reasons.append('Customer_care_num')\n",
    "    return ', '.join(reasons) if reasons else 'Actual Customer'\n",
    "\n",
    "df['Remark'] = df.apply(remark_row, axis=1)\n",
    "\n",
    "# --- Export to Excel ---\n",
    "output_file = 'violation_phone_summary.xlsx'\n",
    "with pd.ExcelWriter(output_file, engine='xlsxwriter') as writer:\n",
    "    summary.to_excel(writer, sheet_name='Summary Report', index=False)\n",
    "    df.to_excel(writer, sheet_name='Remarks', index=False)\n",
    "\n",
    "    # Format percentage columns\n",
    "    workbook = writer.book\n",
    "    summary_ws = writer.sheets['Summary Report']\n",
    "    percent_fmt = workbook.add_format({'num_format': '0.00%', 'align': 'center'})\n",
    "\n",
    "    for col_idx, col in enumerate(summary.columns):\n",
    "        if '%' in col:\n",
    "            summary_ws.set_column(col_idx, col_idx, 18, percent_fmt)\n",
    "        else:\n",
    "            summary_ws.set_column(col_idx, col_idx, 18)\n",
    "\n",
    "print(f\"✅ Report saved to '{output_file}' with Summary and Remarks sheets.\")\n"
   ]
  },
  {
   "cell_type": "code",
   "execution_count": null,
   "id": "ce327fc0-d908-4adb-a50f-4c83d587303b",
   "metadata": {},
   "outputs": [],
   "source": []
  }
 ],
 "metadata": {
  "kernelspec": {
   "display_name": "Python 3 (ipykernel)",
   "language": "python",
   "name": "python3"
  },
  "language_info": {
   "codemirror_mode": {
    "name": "ipython",
    "version": 3
   },
   "file_extension": ".py",
   "mimetype": "text/x-python",
   "name": "python",
   "nbconvert_exporter": "python",
   "pygments_lexer": "ipython3",
   "version": "3.10.14"
  }
 },
 "nbformat": 4,
 "nbformat_minor": 5
}
